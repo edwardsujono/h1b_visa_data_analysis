{
 "cells": [
  {
   "cell_type": "markdown",
   "metadata": {},
   "source": [
    "# Cleaning procedure."
   ]
  },
  {
   "cell_type": "code",
   "execution_count": 15,
   "metadata": {
    "collapsed": true
   },
   "outputs": [],
   "source": [
    "import pandas as pd\n",
    "import seaborn as sns\n",
    "import matplotlib as plt"
   ]
  },
  {
   "cell_type": "code",
   "execution_count": 54,
   "metadata": {
    "collapsed": true
   },
   "outputs": [],
   "source": [
    "df = pd.read_csv(\n",
    "            \"/Users/edwardsujono/Python_Project/h1b_visa_analytic/data/h1b_kaggle.csv\"\n",
    ")"
   ]
  },
  {
   "cell_type": "markdown",
   "metadata": {},
   "source": [
    "We need to delete WITHDRAWN status from the data collections. WITHDRAWN status means that particular user has withdrawn their visa request before the result is decided, so that kind of data is unrelevant to our analysis. \n",
    "Latitude and Longitude are not relevant to our analysis as well since the value is continuos."
   ]
  },
  {
   "cell_type": "code",
   "execution_count": 57,
   "metadata": {},
   "outputs": [
    {
     "ename": "ValueError",
     "evalue": "labels ['lon'] not contained in axis",
     "output_type": "error",
     "traceback": [
      "\u001b[0;31m---------------------------------------------------------------------------\u001b[0m",
      "\u001b[0;31mValueError\u001b[0m                                Traceback (most recent call last)",
      "\u001b[0;32m<ipython-input-57-6cf2ebd3d506>\u001b[0m in \u001b[0;36m<module>\u001b[0;34m()\u001b[0m\n\u001b[1;32m      1\u001b[0m \u001b[0mdf\u001b[0m\u001b[0;34m.\u001b[0m\u001b[0mdrop\u001b[0m\u001b[0;34m(\u001b[0m\u001b[0mdf\u001b[0m\u001b[0;34m[\u001b[0m\u001b[0mdf\u001b[0m\u001b[0;34m.\u001b[0m\u001b[0mCASE_STATUS\u001b[0m \u001b[0;34m==\u001b[0m \u001b[0;34m\"WITHDRAWN\"\u001b[0m\u001b[0;34m]\u001b[0m\u001b[0;34m.\u001b[0m\u001b[0mindex\u001b[0m\u001b[0;34m,\u001b[0m \u001b[0minplace\u001b[0m\u001b[0;34m=\u001b[0m\u001b[0mTrue\u001b[0m\u001b[0;34m)\u001b[0m\u001b[0;34m\u001b[0m\u001b[0m\n\u001b[0;32m----> 2\u001b[0;31m \u001b[0mdf\u001b[0m\u001b[0;34m.\u001b[0m\u001b[0mdrop\u001b[0m\u001b[0;34m(\u001b[0m\u001b[0;34m\"lon\"\u001b[0m\u001b[0;34m,\u001b[0m \u001b[0;36m1\u001b[0m\u001b[0;34m,\u001b[0m \u001b[0minplace\u001b[0m\u001b[0;34m=\u001b[0m\u001b[0mTrue\u001b[0m\u001b[0;34m)\u001b[0m\u001b[0;34m\u001b[0m\u001b[0m\n\u001b[0m\u001b[1;32m      3\u001b[0m \u001b[0mdf\u001b[0m\u001b[0;34m.\u001b[0m\u001b[0mdrop\u001b[0m\u001b[0;34m(\u001b[0m\u001b[0;34m\"lat\"\u001b[0m\u001b[0;34m,\u001b[0m \u001b[0;36m1\u001b[0m\u001b[0;34m,\u001b[0m \u001b[0minplace\u001b[0m\u001b[0;34m=\u001b[0m\u001b[0mTrue\u001b[0m\u001b[0;34m)\u001b[0m\u001b[0;34m\u001b[0m\u001b[0m\n",
      "\u001b[0;32m/Users/edwardsujono/Python_Project/h1b_visa_analytic/ENV/lib/python2.7/site-packages/pandas/core/generic.pyc\u001b[0m in \u001b[0;36mdrop\u001b[0;34m(self, labels, axis, level, inplace, errors)\u001b[0m\n\u001b[1;32m   2159\u001b[0m                 \u001b[0mnew_axis\u001b[0m \u001b[0;34m=\u001b[0m \u001b[0maxis\u001b[0m\u001b[0;34m.\u001b[0m\u001b[0mdrop\u001b[0m\u001b[0;34m(\u001b[0m\u001b[0mlabels\u001b[0m\u001b[0;34m,\u001b[0m \u001b[0mlevel\u001b[0m\u001b[0;34m=\u001b[0m\u001b[0mlevel\u001b[0m\u001b[0;34m,\u001b[0m \u001b[0merrors\u001b[0m\u001b[0;34m=\u001b[0m\u001b[0merrors\u001b[0m\u001b[0;34m)\u001b[0m\u001b[0;34m\u001b[0m\u001b[0m\n\u001b[1;32m   2160\u001b[0m             \u001b[0;32melse\u001b[0m\u001b[0;34m:\u001b[0m\u001b[0;34m\u001b[0m\u001b[0m\n\u001b[0;32m-> 2161\u001b[0;31m                 \u001b[0mnew_axis\u001b[0m \u001b[0;34m=\u001b[0m \u001b[0maxis\u001b[0m\u001b[0;34m.\u001b[0m\u001b[0mdrop\u001b[0m\u001b[0;34m(\u001b[0m\u001b[0mlabels\u001b[0m\u001b[0;34m,\u001b[0m \u001b[0merrors\u001b[0m\u001b[0;34m=\u001b[0m\u001b[0merrors\u001b[0m\u001b[0;34m)\u001b[0m\u001b[0;34m\u001b[0m\u001b[0m\n\u001b[0m\u001b[1;32m   2162\u001b[0m             \u001b[0mdropped\u001b[0m \u001b[0;34m=\u001b[0m \u001b[0mself\u001b[0m\u001b[0;34m.\u001b[0m\u001b[0mreindex\u001b[0m\u001b[0;34m(\u001b[0m\u001b[0;34m**\u001b[0m\u001b[0;34m{\u001b[0m\u001b[0maxis_name\u001b[0m\u001b[0;34m:\u001b[0m \u001b[0mnew_axis\u001b[0m\u001b[0;34m}\u001b[0m\u001b[0;34m)\u001b[0m\u001b[0;34m\u001b[0m\u001b[0m\n\u001b[1;32m   2163\u001b[0m             \u001b[0;32mtry\u001b[0m\u001b[0;34m:\u001b[0m\u001b[0;34m\u001b[0m\u001b[0m\n",
      "\u001b[0;32m/Users/edwardsujono/Python_Project/h1b_visa_analytic/ENV/lib/python2.7/site-packages/pandas/core/indexes/base.pyc\u001b[0m in \u001b[0;36mdrop\u001b[0;34m(self, labels, errors)\u001b[0m\n\u001b[1;32m   3622\u001b[0m             \u001b[0;32mif\u001b[0m \u001b[0merrors\u001b[0m \u001b[0;34m!=\u001b[0m \u001b[0;34m'ignore'\u001b[0m\u001b[0;34m:\u001b[0m\u001b[0;34m\u001b[0m\u001b[0m\n\u001b[1;32m   3623\u001b[0m                 raise ValueError('labels %s not contained in axis' %\n\u001b[0;32m-> 3624\u001b[0;31m                                  labels[mask])\n\u001b[0m\u001b[1;32m   3625\u001b[0m             \u001b[0mindexer\u001b[0m \u001b[0;34m=\u001b[0m \u001b[0mindexer\u001b[0m\u001b[0;34m[\u001b[0m\u001b[0;34m~\u001b[0m\u001b[0mmask\u001b[0m\u001b[0;34m]\u001b[0m\u001b[0;34m\u001b[0m\u001b[0m\n\u001b[1;32m   3626\u001b[0m         \u001b[0;32mreturn\u001b[0m \u001b[0mself\u001b[0m\u001b[0;34m.\u001b[0m\u001b[0mdelete\u001b[0m\u001b[0;34m(\u001b[0m\u001b[0mindexer\u001b[0m\u001b[0;34m)\u001b[0m\u001b[0;34m\u001b[0m\u001b[0m\n",
      "\u001b[0;31mValueError\u001b[0m: labels ['lon'] not contained in axis"
     ]
    }
   ],
   "source": [
    "df.drop(df[df.CASE_STATUS == \"WITHDRAWN\"].index, inplace=True)\n",
    "df.drop(\"lon\", 1, inplace=True)\n",
    "df.drop(\"lat\", 1, inplace=True)"
   ]
  },
  {
   "cell_type": "markdown",
   "metadata": {},
   "source": [
    "Remove all the empty column"
   ]
  },
  {
   "cell_type": "code",
   "execution_count": 58,
   "metadata": {},
   "outputs": [
    {
     "data": {
      "text/plain": [
       "array([ 2016.,  2015.,  2014.,  2013.,  2012.,  2011.])"
      ]
     },
     "execution_count": 58,
     "metadata": {},
     "output_type": "execute_result"
    }
   ],
   "source": [
    "df = df.dropna()\n",
    "df"
   ]
  },
  {
   "cell_type": "markdown",
   "metadata": {},
   "source": [
    "Inner join with the real SOC data because several data in SOC_NAME is rubbish"
   ]
  },
  {
   "cell_type": "raw",
   "metadata": {},
   "source": [
    "SOC_NAME\n",
    "13-2011.01 (rubbish)                                         34.852618\n",
    "15-1121                                             39.911959\n",
    "15-1132                                             40.712784\n",
    "15-1199.01                                          40.680873\n",
    "15-1199.01 SW QUALITY ASSURANCE ENGNRS & TESTERS    33.448377\n",
    "15-1199.08, BUSINESS INTELLIGENCE ANALYSTS          37.774929\n",
    "17-2051                                             40.865286\n",
    "17-2072                                             33.306160\n",
    "27-3031                                             40.712784\n",
    "29-1064.00-OBSTETRICIANS AND GYNECOLOGISTS          29.424122\n",
    "<FONT><FONT>CARPINTEROS</FONT></FONT>               40.760779\n",
    "ACCOUNTANT                                          40.712784\n",
    "ACCOUNTANTS                                         38.139306\n",
    "ACCOUNTANTS AND AUDITORS                            37.460301\n",
    "ACTORS                                              35.167705\n",
    "ACTUARIES                                           39.561959\n",
    "ACUPUNCTURISTS                                      47.322322\n",
    "ADMINISTRATIVE SERVICES MANAGERS                    36.416023\n",
    "ADULT BASIC AND SECONDARY EDUCATION AND LITERACY    38.963734\n",
    "ADULT BASIC AND SECONDARY EDUCATION AND LITERACY T  37.391110\n",
    "ADULT BASIC SECOND EDUC AND LIT TEACH AND INSTRUC   32.298757\n",
    "ADVERTISING AND PROMORTIONS MANAGERS                25.761680\n",
    "ADVERTISING AND PROMOTIONS MANAGER                  34.052234\n",
    "ADVERTISING AND PROMOTIONS MANAGERS                 37.423927\n",
    "ADVERTISING SALES AGENTS                            38.849203\n",
    "AEROSPACE ENGINEERING AND OPERATIONS TECHNICIANS    32.959448\n",
    "AEROSPACE ENGINEERS                                 36.894987"
   ]
  },
  {
   "cell_type": "code",
   "execution_count": 59,
   "metadata": {},
   "outputs": [
    {
     "data": {
      "text/plain": [
       "array([ 2014.,  2013.,  2012.,  2011.])"
      ]
     },
     "execution_count": 59,
     "metadata": {},
     "output_type": "execute_result"
    }
   ],
   "source": [
    "df_soc = pd.read_csv(\n",
    "            \"/Users/edwardsujono/Python_Project/h1b_visa_analytic/data/soc_code.csv\"\n",
    "        )\n",
    "result = pd.merge(df,  df_soc[[\"Code\", \"Title\"]], left_on=\"SOC_NAME\", right_on=\"Title\", how=\"inner\")\n",
    "df = result\n",
    "df.YEAR.unique()\n",
    "# result.to_csv(\"/Users/edwardsujono/Python_Project/h1b_visa_analytic/data/clean_data.csv\")"
   ]
  },
  {
   "cell_type": "markdown",
   "metadata": {
    "collapsed": true
   },
   "source": [
    "Get all the CASE STATUS first"
   ]
  },
  {
   "cell_type": "code",
   "execution_count": 12,
   "metadata": {},
   "outputs": [
    {
     "data": {
      "text/plain": [
       "array(['CERTIFIED-WITHDRAWN', 'CERTIFIED', 'DENIED', 'REJECTED'], dtype=object)"
      ]
     },
     "execution_count": 12,
     "metadata": {},
     "output_type": "execute_result"
    }
   ],
   "source": [
    "all_case_status = df.CASE_STATUS.unique()\n",
    "all_case_status"
   ]
  },
  {
   "cell_type": "markdown",
   "metadata": {},
   "source": [
    "Basically we just interested with these 4 statuses: 'CERTIFIED-WITHDRAWN', 'CERTIFIED', 'DENIED', 'REJECTED', all the rest is unusefull."
   ]
  },
  {
   "cell_type": "code",
   "execution_count": 53,
   "metadata": {},
   "outputs": [
    {
     "data": {
      "text/plain": [
       "array([ 2014.,  2013.,  2012.,  2011.])"
      ]
     },
     "execution_count": 53,
     "metadata": {},
     "output_type": "execute_result"
    }
   ],
   "source": [
    "df = df[df.CASE_STATUS.isin(['CERTIFIED-WITHDRAWN', 'CERTIFIED', 'DENIED', 'REJECTED'])]\n",
    "df.CASE_STATUS.value_counts()\n",
    "df.YEAR.unique()"
   ]
  },
  {
   "cell_type": "markdown",
   "metadata": {},
   "source": [
    "# Visualization"
   ]
  },
  {
   "cell_type": "markdown",
   "metadata": {},
   "source": [
    "On each year applicants that is certified increase"
   ]
  },
  {
   "cell_type": "code",
   "execution_count": null,
   "metadata": {
    "collapsed": true
   },
   "outputs": [],
   "source": [
    "%matplotlib inline\n",
    "df_year_case_status = df[['CASE_STATUS', 'YEAR']]\n",
    "ax=sns.factorplot('YEAR', data=df_year_case_status, hue='CASE_STATUS', kind='count', palette='PRGn')\n",
    "sns.set(style=\"white\", color_codes=True)"
   ]
  },
  {
   "cell_type": "markdown",
   "metadata": {},
   "source": [
    "Next feature that we interested to investigate is the SOC_CODE, since it is the major deciding factor of any applicants"
   ]
  },
  {
   "cell_type": "code",
   "execution_count": 22,
   "metadata": {},
   "outputs": [
    {
     "data": {
      "text/html": [
       "<div>\n",
       "<style>\n",
       "    .dataframe thead tr:only-child th {\n",
       "        text-align: right;\n",
       "    }\n",
       "\n",
       "    .dataframe thead th {\n",
       "        text-align: left;\n",
       "    }\n",
       "\n",
       "    .dataframe tbody tr th {\n",
       "        vertical-align: top;\n",
       "    }\n",
       "</style>\n",
       "<table border=\"1\" class=\"dataframe\">\n",
       "  <thead>\n",
       "    <tr style=\"text-align: right;\">\n",
       "      <th></th>\n",
       "      <th>Unnamed: 0</th>\n",
       "      <th>CASE_STATUS</th>\n",
       "      <th>EMPLOYER_NAME</th>\n",
       "      <th>SOC_NAME</th>\n",
       "      <th>JOB_TITLE</th>\n",
       "      <th>FULL_TIME_POSITION</th>\n",
       "      <th>PREVAILING_WAGE</th>\n",
       "      <th>YEAR</th>\n",
       "      <th>WORKSITE</th>\n",
       "      <th>Code</th>\n",
       "      <th>Title</th>\n",
       "    </tr>\n",
       "  </thead>\n",
       "  <tbody>\n",
       "    <tr>\n",
       "      <th>0</th>\n",
       "      <td>1266531</td>\n",
       "      <td>CERTIFIED-WITHDRAWN</td>\n",
       "      <td>TEXAS STATE UNIVERSITY-SAN MARCOS</td>\n",
       "      <td>Biological Scientists, All Other</td>\n",
       "      <td>POSTDOCTORAL RESEARCH ASSOCIATE</td>\n",
       "      <td>Y</td>\n",
       "      <td>43118.0</td>\n",
       "      <td>2014.0</td>\n",
       "      <td>SAN MARCOS, TEXAS</td>\n",
       "      <td>19-1029.00</td>\n",
       "      <td>Biological Scientists, All Other</td>\n",
       "    </tr>\n",
       "    <tr>\n",
       "      <th>1</th>\n",
       "      <td>1266650</td>\n",
       "      <td>CERTIFIED-WITHDRAWN</td>\n",
       "      <td>INDIANA UNIV. PURDUE UNIV. INDIANAPOLIS</td>\n",
       "      <td>Biological Scientists, All Other</td>\n",
       "      <td>POSTDOCTORAL RESEARCH ASSOCIATE</td>\n",
       "      <td>Y</td>\n",
       "      <td>33405.0</td>\n",
       "      <td>2014.0</td>\n",
       "      <td>GARY, INDIANA</td>\n",
       "      <td>19-1029.00</td>\n",
       "      <td>Biological Scientists, All Other</td>\n",
       "    </tr>\n",
       "    <tr>\n",
       "      <th>2</th>\n",
       "      <td>1266656</td>\n",
       "      <td>CERTIFIED-WITHDRAWN</td>\n",
       "      <td>THE J. DAVID GLADSTONE INSTITUTES</td>\n",
       "      <td>Biological Scientists, All Other</td>\n",
       "      <td>BIOINFORMATICS FELLOW</td>\n",
       "      <td>Y</td>\n",
       "      <td>46155.0</td>\n",
       "      <td>2014.0</td>\n",
       "      <td>SAN FRANCISCO, CALIFORNIA</td>\n",
       "      <td>19-1029.00</td>\n",
       "      <td>Biological Scientists, All Other</td>\n",
       "    </tr>\n",
       "  </tbody>\n",
       "</table>\n",
       "</div>"
      ],
      "text/plain": [
       "   Unnamed: 0          CASE_STATUS                            EMPLOYER_NAME  \\\n",
       "0     1266531  CERTIFIED-WITHDRAWN        TEXAS STATE UNIVERSITY-SAN MARCOS   \n",
       "1     1266650  CERTIFIED-WITHDRAWN  INDIANA UNIV. PURDUE UNIV. INDIANAPOLIS   \n",
       "2     1266656  CERTIFIED-WITHDRAWN        THE J. DAVID GLADSTONE INSTITUTES   \n",
       "\n",
       "                           SOC_NAME                        JOB_TITLE  \\\n",
       "0  Biological Scientists, All Other  POSTDOCTORAL RESEARCH ASSOCIATE   \n",
       "1  Biological Scientists, All Other  POSTDOCTORAL RESEARCH ASSOCIATE   \n",
       "2  Biological Scientists, All Other            BIOINFORMATICS FELLOW   \n",
       "\n",
       "  FULL_TIME_POSITION  PREVAILING_WAGE    YEAR                   WORKSITE  \\\n",
       "0                  Y          43118.0  2014.0          SAN MARCOS, TEXAS   \n",
       "1                  Y          33405.0  2014.0              GARY, INDIANA   \n",
       "2                  Y          46155.0  2014.0  SAN FRANCISCO, CALIFORNIA   \n",
       "\n",
       "         Code                             Title  \n",
       "0  19-1029.00  Biological Scientists, All Other  \n",
       "1  19-1029.00  Biological Scientists, All Other  \n",
       "2  19-1029.00  Biological Scientists, All Other  "
      ]
     },
     "execution_count": 22,
     "metadata": {},
     "output_type": "execute_result"
    }
   ],
   "source": [
    "df.head(3)"
   ]
  },
  {
   "cell_type": "code",
   "execution_count": 12,
   "metadata": {},
   "outputs": [
    {
     "data": {
      "text/plain": [
       "15-1121.00    284982\n",
       "15-1131.00    220764\n",
       "15-1132.00    187537\n",
       "15-1199.00     67990\n",
       "15-1133.00     43183\n",
       "13-1111.00     37688\n",
       "13-2051.00     33056\n",
       "13-2011.00     29946\n",
       "17-2141.00     25473\n",
       "17-2072.00     22468\n",
       "17-2071.00     21447\n",
       "13-1161.00     21419\n",
       "15-1141.00     21367\n",
       "29-1069.00     21213\n",
       "15-2031.00     18634\n",
       "15-1142.00     17957\n",
       "19-1042.00     16254\n",
       "11-3021.00     15467\n",
       "29-1123.00     14284\n",
       "19-1021.00     13895\n",
       "17-2112.00     12227\n",
       "11-2021.00     10247\n",
       "17-2051.00      9651\n",
       "19-1029.00      9611\n",
       "15-2041.00      8859\n",
       "29-1063.00      8825\n",
       "19-2031.00      8350\n",
       "27-1024.00      7790\n",
       "11-1021.00      7100\n",
       "29-1051.00      6967\n",
       "               ...  \n",
       "43-4141.00         1\n",
       "27-2042.01         1\n",
       "51-3092.00         1\n",
       "37-2012.00         1\n",
       "51-3023.00         1\n",
       "37-2021.00         1\n",
       "39-4021.00         1\n",
       "47-5021.00         1\n",
       "31-9094.00         1\n",
       "29-2054.00         1\n",
       "47-5013.00         1\n",
       "49-9061.00         1\n",
       "51-6011.00         1\n",
       "51-4199.00         1\n",
       "47-2011.00         1\n",
       "49-3041.00         1\n",
       "51-9198.00         1\n",
       "53-7033.00         1\n",
       "31-2011.00         1\n",
       "35-3041.00         1\n",
       "53-5021.01         1\n",
       "49-3021.00         1\n",
       "19-1031.02         1\n",
       "39-3092.00         1\n",
       "47-2152.00         1\n",
       "53-4031.00         1\n",
       "13-1032.00         1\n",
       "49-9081.00         1\n",
       "47-4041.00         1\n",
       "47-2041.00         1\n",
       "Name: Code, Length: 546, dtype: int64"
      ]
     },
     "execution_count": 12,
     "metadata": {},
     "output_type": "execute_result"
    }
   ],
   "source": [
    "df_year_soc_code = df[['YEAR', 'Code']]\n",
    "df_year_soc_code.Code.value_counts()"
   ]
  },
  {
   "cell_type": "code",
   "execution_count": 44,
   "metadata": {},
   "outputs": [
    {
     "data": {
      "text/plain": [
       "array([ 2014.,  2013.,  2012.,  2011.])"
      ]
     },
     "execution_count": 44,
     "metadata": {},
     "output_type": "execute_result"
    }
   ],
   "source": [
    "%matplotlib inline\n",
    "df_year_soc_code = df[['YEAR', 'Code']]\n",
    "tops = df_year_soc_code.Code.value_counts().index.tolist()[:5]\n",
    "# print (tops)\n",
    "df_year_soc_code  = df_year_soc_code[df_year_soc_code.Code.isin(tops)]\n",
    "df_year_soc_code.YEAR.unique()\n",
    "ax=sns.factorplot('YEAR', data=df_year_soc_code, hue='Code', kind='count')\n",
    "sns.set(style=\"white\", color_codes=True)"
   ]
  },
  {
   "cell_type": "markdown",
   "metadata": {},
   "source": [
    "2015-2016 data is mostly missing due to the not-listed SOC-NAME"
   ]
  },
  {
   "cell_type": "code",
   "execution_count": 52,
   "metadata": {},
   "outputs": [
    {
     "data": {
      "text/plain": [
       "array([ 2014.,  2013.,  2012.,  2011.])"
      ]
     },
     "execution_count": 52,
     "metadata": {},
     "output_type": "execute_result"
    }
   ],
   "source": [
    "df_year_soc_code = df[['YEAR', 'Code']]\n",
    "# df_year_from_2015_2016 = df_year_soc_code[df_year_soc_code.YEAR.isin([2015., 2016.])]\n",
    "# df_year_from_2015_2016\n",
    "df.YEAR.unique()"
   ]
  },
  {
   "cell_type": "code",
   "execution_count": null,
   "metadata": {
    "collapsed": true
   },
   "outputs": [],
   "source": []
  }
 ],
 "metadata": {
  "kernelspec": {
   "display_name": "Python 2",
   "language": "python",
   "name": "python2"
  },
  "language_info": {
   "codemirror_mode": {
    "name": "ipython",
    "version": 2
   },
   "file_extension": ".py",
   "mimetype": "text/x-python",
   "name": "python",
   "nbconvert_exporter": "python",
   "pygments_lexer": "ipython2",
   "version": "2.7.13"
  }
 },
 "nbformat": 4,
 "nbformat_minor": 2
}
