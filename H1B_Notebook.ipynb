{
 "cells": [
  {
   "cell_type": "markdown",
   "metadata": {},
   "source": [
    "Cleaning procedure."
   ]
  },
  {
   "cell_type": "code",
   "execution_count": 2,
   "metadata": {
    "collapsed": true
   },
   "outputs": [],
   "source": [
    "import pandas as pd\n",
    "\n",
    "df = pd.read_csv(\n",
    "            \"/Users/edwardsujono/Python_Project/h1b_visa_analytic/data/h1b_kaggle.csv\"\n",
    ")"
   ]
  },
  {
   "cell_type": "markdown",
   "metadata": {},
   "source": [
    "We need to delete WITHDRAWN status from the data collections. WITHDRAWN status means that particular user has withdrawn their visa request before the result is decided, so that kind of data is unrelevant to our analysis. \n",
    "Latitude and Longitude are not relevant to our analysis as well since the value is continuos."
   ]
  },
  {
   "cell_type": "code",
   "execution_count": 3,
   "metadata": {
    "collapsed": true
   },
   "outputs": [],
   "source": [
    "df.drop(df[df.CASE_STATUS == \"WITHDRAWN\"].index, inplace=True)\n",
    "df.drop(\"lon\", 1, inplace=True)\n",
    "df.drop(\"lat\", 1, inplace=True)"
   ]
  },
  {
   "cell_type": "markdown",
   "metadata": {},
   "source": [
    "Remove all the empty column"
   ]
  },
  {
   "cell_type": "code",
   "execution_count": null,
   "metadata": {
    "collapsed": true
   },
   "outputs": [],
   "source": [
    "df.drop(df[df.CASE_STATUS == \"\"].index, inplace=True)\n",
    "df.drop(df[df.EMPLOYER_NAME == \"\"].index, inplace=True)\n",
    "df.drop(df[df.SOC_NAME == \"\"].index, inplace=True)\n",
    "df.drop(df[df.JOB_TITLE == \"\"].index, inplace=True)\n",
    "df.drop(df[df.FULL_TIME_POSITION == \"\"].index, inplace=True)\n",
    "df.drop(df[df.PREVAILING_WAGE < 0].index, inplace=True)\n",
    "df.drop(df[df.WORKSITE == \"\"].index, inplace=True)"
   ]
  },
  {
   "cell_type": "markdown",
   "metadata": {},
   "source": [
    "Inner join with the real SOC data because several data in SOC_NAME is rubbish"
   ]
  },
  {
   "cell_type": "raw",
   "metadata": {},
   "source": [
    "SOC_NAME\n",
    "13-2011.01 (rubbish)                                         34.852618\n",
    "15-1121                                             39.911959\n",
    "15-1132                                             40.712784\n",
    "15-1199.01                                          40.680873\n",
    "15-1199.01 SW QUALITY ASSURANCE ENGNRS & TESTERS    33.448377\n",
    "15-1199.08, BUSINESS INTELLIGENCE ANALYSTS          37.774929\n",
    "17-2051                                             40.865286\n",
    "17-2072                                             33.306160\n",
    "27-3031                                             40.712784\n",
    "29-1064.00-OBSTETRICIANS AND GYNECOLOGISTS          29.424122\n",
    "<FONT><FONT>CARPINTEROS</FONT></FONT>               40.760779\n",
    "ACCOUNTANT                                          40.712784\n",
    "ACCOUNTANTS                                         38.139306\n",
    "ACCOUNTANTS AND AUDITORS                            37.460301\n",
    "ACTORS                                              35.167705\n",
    "ACTUARIES                                           39.561959\n",
    "ACUPUNCTURISTS                                      47.322322\n",
    "ADMINISTRATIVE SERVICES MANAGERS                    36.416023\n",
    "ADULT BASIC AND SECONDARY EDUCATION AND LITERACY    38.963734\n",
    "ADULT BASIC AND SECONDARY EDUCATION AND LITERACY T  37.391110\n",
    "ADULT BASIC SECOND EDUC AND LIT TEACH AND INSTRUC   32.298757\n",
    "ADVERTISING AND PROMORTIONS MANAGERS                25.761680\n",
    "ADVERTISING AND PROMOTIONS MANAGER                  34.052234\n",
    "ADVERTISING AND PROMOTIONS MANAGERS                 37.423927\n",
    "ADVERTISING SALES AGENTS                            38.849203\n",
    "AEROSPACE ENGINEERING AND OPERATIONS TECHNICIANS    32.959448\n",
    "AEROSPACE ENGINEERS                                 36.894987"
   ]
  },
  {
   "cell_type": "code",
   "execution_count": null,
   "metadata": {
    "collapsed": true
   },
   "outputs": [],
   "source": [
    "df_soc = pd.read_csv(\n",
    "            \"/Users/edwardsujono/Python_Project/h1b_visa_analytic/data/soc_code.csv\"\n",
    "        )\n",
    "result = pd.merge(df,  df_soc[[\"Code\", \"Title\"]], left_on=\"SOC_NAME\", right_on=\"Title\", how=\"inner\")\n",
    "result.to_csv(\"/Users/edwardsujono/Python_Project/h1b_visa_analytic/data/clean_data.csv\")"
   ]
  },
  {
   "cell_type": "markdown",
   "metadata": {},
   "source": [
    "Plot each year datas. check CERTIFIED and CERTIFED_WITHDRAWN"
   ]
  },
  {
   "cell_type": "code",
   "execution_count": 7,
   "metadata": {},
   "outputs": [
    {
     "name": "stdout",
     "output_type": "stream",
     "text": [
      "[[8698, 237394], [25483, 306333], [31942, 366902], [34382, 441667]]\n"
     ]
    },
    {
     "data": {
      "text/plain": [
       "<matplotlib.axes._subplots.AxesSubplot at 0x12245fa50>"
      ]
     },
     "execution_count": 7,
     "metadata": {},
     "output_type": "execute_result"
    },
    {
     "data": {
      "text/plain": [
       "<matplotlib.figure.Figure at 0x10da29150>"
      ]
     },
     "metadata": {},
     "output_type": "display_data"
    },
    {
     "data": {
      "image/png": "[encoded data removed]",
      "text/plain": [
       "<matplotlib.figure.Figure at 0x118fff590>"
      ]
     },
     "metadata": {},
     "output_type": "display_data"
    }
   ],
   "source": [
    "%matplotlib inline\n",
    "\n",
    "import pandas as pd\n",
    "import matplotlib.pyplot as plt\n",
    "\n",
    "result = pd.read_csv(\n",
    "                \"/Users/edwardsujono/Python_Project/h1b_visa_analytic/data/clean_data.csv\"\n",
    ")\n",
    "years = result.groupby([\"YEAR\"]).mean().index.values\n",
    "datas = []\n",
    "statuses = [\"CERTIFIED-WITHDRAWN\", \"CERTIFIED\"]\n",
    "\n",
    "for year in years:\n",
    "    datas.append([])\n",
    "\n",
    "for i in xrange(len(years)):\n",
    "    for status in statuses:\n",
    "\n",
    "        year_data = result.YEAR == years[i]\n",
    "        status_data = result.CASE_STATUS == status\n",
    "\n",
    "        combine_data = result[year_data & status_data]\n",
    "        datas[i].append(len(combine_data.index.values))\n",
    "\n",
    "plotting = pd.DataFrame(datas, index=years, columns=statuses)\n",
    "print datas\n",
    "plt.figure()\n",
    "plotting.plot()"
   ]
  },
  {
   "cell_type": "code",
   "execution_count": null,
   "metadata": {
    "collapsed": true
   },
   "outputs": [],
   "source": []
  }
 ],
 "metadata": {
  "kernelspec": {
   "display_name": "Python 2",
   "language": "python",
   "name": "python2"
  },
  "language_info": {
   "codemirror_mode": {
    "name": "ipython",
    "version": 2
   },
   "file_extension": ".py",
   "mimetype": "text/x-python",
   "name": "python",
   "nbconvert_exporter": "python",
   "pygments_lexer": "ipython2",
   "version": "2.7.13"
  }
 },
 "nbformat": 4,
 "nbformat_minor": 2
}
